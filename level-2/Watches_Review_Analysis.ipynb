{
  "cells": [
    {
      "cell_type": "code",
      "execution_count": 1,
      "metadata": {
        "colab": {
          "base_uri": "https://localhost:8080/"
        },
        "id": "Y6pz7LGh_L1p",
        "outputId": "84926350-6143-4522-9bd5-91d0307e5de8"
      },
      "outputs": [
        {
          "output_type": "stream",
          "name": "stdout",
          "text": [
            "Get:1 https://cloud.r-project.org/bin/linux/ubuntu bionic-cran40/ InRelease [3,626 B]\n",
            "Ign:2 https://developer.download.nvidia.com/compute/cuda/repos/ubuntu1804/x86_64  InRelease\n",
            "Ign:3 https://developer.download.nvidia.com/compute/machine-learning/repos/ubuntu1804/x86_64  InRelease\n",
            "Get:4 https://developer.download.nvidia.com/compute/cuda/repos/ubuntu1804/x86_64  Release [696 B]\n",
            "Hit:5 https://developer.download.nvidia.com/compute/machine-learning/repos/ubuntu1804/x86_64  Release\n",
            "Get:6 https://developer.download.nvidia.com/compute/cuda/repos/ubuntu1804/x86_64  Release.gpg [836 B]\n",
            "Hit:7 http://archive.ubuntu.com/ubuntu bionic InRelease\n",
            "Get:8 http://ppa.launchpad.net/c2d4u.team/c2d4u4.0+/ubuntu bionic InRelease [15.9 kB]\n",
            "Get:9 https://cloud.r-project.org/bin/linux/ubuntu bionic-cran40/ Packages [76.0 kB]\n",
            "Get:10 http://security.ubuntu.com/ubuntu bionic-security InRelease [88.7 kB]\n",
            "Get:11 http://archive.ubuntu.com/ubuntu bionic-updates InRelease [88.7 kB]\n",
            "Get:13 https://developer.download.nvidia.com/compute/cuda/repos/ubuntu1804/x86_64  Packages [872 kB]\n",
            "Hit:14 http://ppa.launchpad.net/cran/libgit2/ubuntu bionic InRelease\n",
            "Get:15 http://archive.ubuntu.com/ubuntu bionic-backports InRelease [74.6 kB]\n",
            "Get:16 http://ppa.launchpad.net/deadsnakes/ppa/ubuntu bionic InRelease [15.9 kB]\n",
            "Hit:17 http://ppa.launchpad.net/graphics-drivers/ppa/ubuntu bionic InRelease\n",
            "Get:18 http://security.ubuntu.com/ubuntu bionic-security/restricted amd64 Packages [738 kB]\n",
            "Get:19 http://ppa.launchpad.net/c2d4u.team/c2d4u4.0+/ubuntu bionic/main Sources [1,823 kB]\n",
            "Get:20 http://archive.ubuntu.com/ubuntu bionic-updates/universe amd64 Packages [2,242 kB]\n",
            "Get:21 http://security.ubuntu.com/ubuntu bionic-security/main amd64 Packages [2,516 kB]\n",
            "Get:22 http://security.ubuntu.com/ubuntu bionic-security/universe amd64 Packages [1,463 kB]\n",
            "Get:23 http://archive.ubuntu.com/ubuntu bionic-updates/restricted amd64 Packages [771 kB]\n",
            "Get:24 http://archive.ubuntu.com/ubuntu bionic-updates/main amd64 Packages [2,954 kB]\n",
            "Get:25 http://ppa.launchpad.net/c2d4u.team/c2d4u4.0+/ubuntu bionic/main amd64 Packages [934 kB]\n",
            "Get:26 http://ppa.launchpad.net/deadsnakes/ppa/ubuntu bionic/main amd64 Packages [45.3 kB]\n",
            "Fetched 14.7 MB in 8s (1,940 kB/s)\n",
            "Reading package lists... Done\n"
          ]
        }
      ],
      "source": [
        "import os\n",
        "# Find the latest version of spark 3.0  from http://www.apache.org/dist/spark/ and enter as the spark version\n",
        "# For example:\n",
        "# spark_version = 'spark-3.0.3'\n",
        "spark_version = 'spark-3.2.0'\n",
        "os.environ['SPARK_VERSION']=spark_version\n",
        "\n",
        "# Install Spark and Java\n",
        "!apt-get update\n",
        "!apt-get install openjdk-8-jdk-headless -qq > /dev/null\n",
        "!wget -q http://www.apache.org/dist/spark/$SPARK_VERSION/$SPARK_VERSION-bin-hadoop2.7.tgz\n",
        "!tar xf $SPARK_VERSION-bin-hadoop2.7.tgz\n",
        "!pip install -q findspark\n",
        "\n",
        "# Set Environment Variables\n",
        "import os\n",
        "os.environ[\"JAVA_HOME\"] = \"/usr/lib/jvm/java-8-openjdk-amd64\"\n",
        "os.environ[\"SPARK_HOME\"] = f\"/content/{spark_version}-bin-hadoop2.7\"\n",
        "\n",
        "# Start a SparkSession\n",
        "import findspark\n",
        "findspark.init()"
      ]
    },
    {
      "cell_type": "code",
      "execution_count": 2,
      "metadata": {
        "id": "vE6a0bfGMnxF"
      },
      "outputs": [],
      "source": [
        "from pyspark.sql import SparkSession\n",
        "spark = SparkSession.builder.appName(\"WatchETL\").config(\"spark.driver.extraClassPath\",\"/content/postgresql-42.2.9.jar\").getOrCreate()"
      ]
    },
    {
      "cell_type": "code",
      "execution_count": 3,
      "metadata": {
        "colab": {
          "base_uri": "https://localhost:8080/"
        },
        "id": "aIGU4Tzs_Q4g",
        "outputId": "42235237-5fd4-499e-85d2-33a4b9ad4912"
      },
      "outputs": [
        {
          "output_type": "stream",
          "name": "stdout",
          "text": [
            "+-----------+-----------+--------------+----------+--------------+--------------------+----------------+-----------+-------------+-----------+----+-----------------+--------------------+--------------------+-----------+\n",
            "|marketplace|customer_id|     review_id|product_id|product_parent|       product_title|product_category|star_rating|helpful_votes|total_votes|vine|verified_purchase|     review_headline|         review_body|review_date|\n",
            "+-----------+-----------+--------------+----------+--------------+--------------------+----------------+-----------+-------------+-----------+----+-----------------+--------------------+--------------------+-----------+\n",
            "|         US|    3653882|R3O9SGZBVQBV76|B00FALQ1ZC|     937001370|Invicta Women's 1...|         Watches|          5|            0|          0|   N|                Y|          Five Stars|Absolutely love t...| 2015-08-31|\n",
            "|         US|   14661224| RKH8BNC3L5DLF|B00D3RGO20|     484010722|Kenneth Cole New ...|         Watches|          5|            0|          0|   N|                Y|I love thiswatch ...|I love this watch...| 2015-08-31|\n",
            "|         US|   27324930|R2HLE8WKZSU3NL|B00DKYC7TK|     361166390|Ritche 22mm Black...|         Watches|          2|            1|          1|   N|                Y|           Two Stars|           Scratches| 2015-08-31|\n",
            "|         US|    7211452|R31U3UH5AZ42LL|B000EQS1JW|     958035625|Citizen Men's BM8...|         Watches|          5|            0|          0|   N|                Y|          Five Stars|It works well on ...| 2015-08-31|\n",
            "|         US|   12733322|R2SV659OUJ945Y|B00A6GFD7S|     765328221|Orient ER27009B M...|         Watches|          4|            0|          0|   N|                Y|Beautiful face, b...|Beautiful watch f...| 2015-08-31|\n",
            "|         US|    6576411| RA51CP8TR5A2L|B00EYSOSE8|     230493695|Casio Men's GW-94...|         Watches|          5|            0|          0|   N|                Y|       No complaints|i love this watch...| 2015-08-31|\n",
            "|         US|   11811565| RB2Q7DLDN6TH6|B00WM0QA3M|     549298279|Fossil Women's ES...|         Watches|          5|            1|          1|   N|                Y|          Five Stars|for my wife and s...| 2015-08-31|\n",
            "|         US|   49401598|R2RHFJV0UYBK3Y|B00A4EYBR0|     844009113|INFANTRY Mens Nig...|         Watches|          1|            1|          5|   N|                N|I was about to bu...|I was about to bu...| 2015-08-31|\n",
            "|         US|   45925069|R2Z6JOQ94LFHEP|B00MAMPGGE|     263720892|G-Shock Men's Gre...|         Watches|          5|            1|          2|   N|                Y|      Perfect watch!|Watch is perfect....| 2015-08-31|\n",
            "|         US|   44751341| RX27XIIWY5JPB|B004LBPB7Q|     124278407|Heiden Quad Watch...|         Watches|          4|            0|          0|   N|                Y|Great quality and...|Great quality and...| 2015-08-31|\n",
            "+-----------+-----------+--------------+----------+--------------+--------------------+----------------+-----------+-------------+-----------+----+-----------------+--------------------+--------------------+-----------+\n",
            "only showing top 10 rows\n",
            "\n"
          ]
        }
      ],
      "source": [
        "from pyspark import SparkFiles\n",
        "# Load data from S3 bucket into a DataFrame\n",
        "url = \"https://s3.amazonaws.com/amazon-reviews-pds/tsv/amazon_reviews_us_Watches_v1_00.tsv.gz\"\n",
        "spark.sparkContext.addFile(url)\n",
        "\n",
        "df = spark.read.option('header', 'true').csv(SparkFiles.get(\"amazon_reviews_us_Watches_v1_00.tsv.gz\"), inferSchema=True, sep='\\t')\n",
        "df.show(10)"
      ]
    },
    {
      "cell_type": "code",
      "execution_count": 4,
      "metadata": {
        "colab": {
          "base_uri": "https://localhost:8080/"
        },
        "id": "10qoqQv3_Y_w",
        "outputId": "9c7915ac-1fdd-42f1-e8ed-92c284e8bc4d"
      },
      "outputs": [
        {
          "output_type": "execute_result",
          "data": {
            "text/plain": [
              "960872"
            ]
          },
          "metadata": {},
          "execution_count": 4
        }
      ],
      "source": [
        "# Total no of rows in this dataset\n",
        "df.count()"
      ]
    },
    {
      "cell_type": "markdown",
      "metadata": {
        "id": "GAgvBYkG_awE"
      },
      "source": [
        "## Examine the schema"
      ]
    },
    {
      "cell_type": "code",
      "execution_count": 5,
      "metadata": {
        "colab": {
          "base_uri": "https://localhost:8080/"
        },
        "id": "SXtPi-Hw_dCe",
        "outputId": "9a6c3d15-5931-463a-d6a1-345abf052886"
      },
      "outputs": [
        {
          "output_type": "stream",
          "name": "stdout",
          "text": [
            "root\n",
            " |-- marketplace: string (nullable = true)\n",
            " |-- customer_id: integer (nullable = true)\n",
            " |-- review_id: string (nullable = true)\n",
            " |-- product_id: string (nullable = true)\n",
            " |-- product_parent: integer (nullable = true)\n",
            " |-- product_title: string (nullable = true)\n",
            " |-- product_category: string (nullable = true)\n",
            " |-- star_rating: integer (nullable = true)\n",
            " |-- helpful_votes: integer (nullable = true)\n",
            " |-- total_votes: integer (nullable = true)\n",
            " |-- vine: string (nullable = true)\n",
            " |-- verified_purchase: string (nullable = true)\n",
            " |-- review_headline: string (nullable = true)\n",
            " |-- review_body: string (nullable = true)\n",
            " |-- review_date: string (nullable = true)\n",
            "\n"
          ]
        }
      ],
      "source": [
        "df.printSchema()"
      ]
    },
    {
      "cell_type": "code",
      "source": [
        "#Drop rows with null values\n",
        "df=df.dropna()"
      ],
      "metadata": {
        "id": "gHTFCqoxaGEs"
      },
      "execution_count": 6,
      "outputs": []
    },
    {
      "cell_type": "code",
      "source": [
        "#Drop duplicates\n",
        "df=df.distinct()"
      ],
      "metadata": {
        "id": "1JxvcLeokIim"
      },
      "execution_count": 7,
      "outputs": []
    },
    {
      "cell_type": "code",
      "source": [
        "#Check row count after dropping duplicates\n",
        "df.count()"
      ],
      "metadata": {
        "colab": {
          "base_uri": "https://localhost:8080/"
        },
        "id": "4E1JqbmSaF6y",
        "outputId": "8792e7bf-ffa3-4abe-9c9a-91a0b3b48af3"
      },
      "execution_count": 8,
      "outputs": [
        {
          "output_type": "execute_result",
          "data": {
            "text/plain": [
              "960679"
            ]
          },
          "metadata": {},
          "execution_count": 8
        }
      ]
    },
    {
      "cell_type": "code",
      "source": [
        "#Change Review date column type from string to date\n",
        "from pyspark.sql.functions import to_date\n",
        " \n",
        "df = df.withColumn('ReviewDate',to_date(df.review_date, 'yyyy-MM-dd'))\n",
        "df.printSchema()\n",
        "\n"
      ],
      "metadata": {
        "colab": {
          "base_uri": "https://localhost:8080/"
        },
        "id": "os0nMFn_aFwK",
        "outputId": "107cfc0d-6259-4d44-edad-d0406d76cb45"
      },
      "execution_count": 9,
      "outputs": [
        {
          "output_type": "stream",
          "name": "stdout",
          "text": [
            "root\n",
            " |-- marketplace: string (nullable = true)\n",
            " |-- customer_id: integer (nullable = true)\n",
            " |-- review_id: string (nullable = true)\n",
            " |-- product_id: string (nullable = true)\n",
            " |-- product_parent: integer (nullable = true)\n",
            " |-- product_title: string (nullable = true)\n",
            " |-- product_category: string (nullable = true)\n",
            " |-- star_rating: integer (nullable = true)\n",
            " |-- helpful_votes: integer (nullable = true)\n",
            " |-- total_votes: integer (nullable = true)\n",
            " |-- vine: string (nullable = true)\n",
            " |-- verified_purchase: string (nullable = true)\n",
            " |-- review_headline: string (nullable = true)\n",
            " |-- review_body: string (nullable = true)\n",
            " |-- review_date: string (nullable = true)\n",
            " |-- ReviewDate: date (nullable = true)\n",
            "\n"
          ]
        }
      ]
    },
    {
      "cell_type": "code",
      "source": [
        "#drop old review_date column\n",
        "df=df.drop('review_date')"
      ],
      "metadata": {
        "id": "SAqq5UtyaFk3"
      },
      "execution_count": 10,
      "outputs": []
    },
    {
      "cell_type": "code",
      "source": [
        "# rename new review_date column\n",
        "df=df.withColumnRenamed('ReviewDate','review_date',)\n",
        "df.printSchema()"
      ],
      "metadata": {
        "colab": {
          "base_uri": "https://localhost:8080/"
        },
        "id": "vdEyZpE0aFW_",
        "outputId": "f11e22aa-a638-4bdc-e3a6-93977fc8b4ed"
      },
      "execution_count": 11,
      "outputs": [
        {
          "output_type": "stream",
          "name": "stdout",
          "text": [
            "root\n",
            " |-- marketplace: string (nullable = true)\n",
            " |-- customer_id: integer (nullable = true)\n",
            " |-- review_id: string (nullable = true)\n",
            " |-- product_id: string (nullable = true)\n",
            " |-- product_parent: integer (nullable = true)\n",
            " |-- product_title: string (nullable = true)\n",
            " |-- product_category: string (nullable = true)\n",
            " |-- star_rating: integer (nullable = true)\n",
            " |-- helpful_votes: integer (nullable = true)\n",
            " |-- total_votes: integer (nullable = true)\n",
            " |-- vine: string (nullable = true)\n",
            " |-- verified_purchase: string (nullable = true)\n",
            " |-- review_headline: string (nullable = true)\n",
            " |-- review_body: string (nullable = true)\n",
            " |-- review_date: date (nullable = true)\n",
            "\n"
          ]
        }
      ]
    },
    {
      "cell_type": "code",
      "source": [
        "# Separate dataframe for Vine Customers\n",
        "df_vine=df.filter(df['vine']=='Y')"
      ],
      "metadata": {
        "id": "sn2cir75fSFl"
      },
      "execution_count": 12,
      "outputs": []
    },
    {
      "cell_type": "code",
      "source": [
        "#Separate dataframe for Non Vine Customers\n",
        "df_nonvine=df.filter(df['vine']=='N')"
      ],
      "metadata": {
        "id": "OYtoL-XbfsuZ"
      },
      "execution_count": 13,
      "outputs": []
    },
    {
      "cell_type": "markdown",
      "source": [
        "## Analysis for vine customers"
      ],
      "metadata": {
        "id": "sUzHLND7f2xw"
      }
    },
    {
      "cell_type": "code",
      "source": [
        "#Checking summary statistics of starratings , helpful votes and total votes for vine customers \n",
        "vine_summary_analysis_df = df_vine.select([\"star_rating\",\"helpful_votes\",\"total_votes\"]).describe()\n",
        "\n",
        "print(\"Summary statistics for VINE CUSTOMERS\")\n",
        "vine_summary_analysis_df.show()"
      ],
      "metadata": {
        "colab": {
          "base_uri": "https://localhost:8080/"
        },
        "id": "8B7fks8XgIte",
        "outputId": "28785d4c-6ba0-47d9-a3e0-66e20b277f16"
      },
      "execution_count": 14,
      "outputs": [
        {
          "output_type": "stream",
          "name": "stdout",
          "text": [
            "Summary statistics for VINE CUSTOMERS\n",
            "+-------+------------------+------------------+------------------+\n",
            "|summary|       star_rating|     helpful_votes|       total_votes|\n",
            "+-------+------------------+------------------+------------------+\n",
            "|  count|              1747|              1747|              1747|\n",
            "|   mean| 4.034344590726961|2.8580423583285635| 3.712077847738981|\n",
            "| stddev|0.9366959934006931|11.039313131908221|12.010833577598133|\n",
            "|    min|                 1|                 0|                 0|\n",
            "|    max|                 5|               349|               370|\n",
            "+-------+------------------+------------------+------------------+\n",
            "\n"
          ]
        }
      ]
    },
    {
      "cell_type": "code",
      "source": [
        "# Checking total votes for each star ratings\n",
        "from pyspark.sql.functions import mean, min, max, count,sum\n",
        "df_vine.groupBy('star_rating').sum('total_votes').show()\n"
      ],
      "metadata": {
        "id": "6COo2iKIktl0",
        "colab": {
          "base_uri": "https://localhost:8080/"
        },
        "outputId": "6a3a87fa-fb41-425c-c6cc-90eb3f744286"
      },
      "execution_count": 15,
      "outputs": [
        {
          "output_type": "stream",
          "name": "stdout",
          "text": [
            "+-----------+----------------+\n",
            "|star_rating|sum(total_votes)|\n",
            "+-----------+----------------+\n",
            "|          1|             172|\n",
            "|          3|             988|\n",
            "|          5|            2023|\n",
            "|          4|            2956|\n",
            "|          2|             346|\n",
            "+-----------+----------------+\n",
            "\n"
          ]
        }
      ]
    },
    {
      "cell_type": "code",
      "source": [
        "# Checking helpful votes for each star ratings\n",
        "df_vine.groupBy('star_rating').sum('helpful_votes').show()"
      ],
      "metadata": {
        "colab": {
          "base_uri": "https://localhost:8080/"
        },
        "id": "vSZxIgPAW2Zu",
        "outputId": "a8e6dc7b-816c-4729-9b58-720633e40d17"
      },
      "execution_count": 16,
      "outputs": [
        {
          "output_type": "stream",
          "name": "stdout",
          "text": [
            "+-----------+------------------+\n",
            "|star_rating|sum(helpful_votes)|\n",
            "+-----------+------------------+\n",
            "|          1|               121|\n",
            "|          3|               694|\n",
            "|          5|              1604|\n",
            "|          4|              2361|\n",
            "|          2|               213|\n",
            "+-----------+------------------+\n",
            "\n"
          ]
        }
      ]
    },
    {
      "cell_type": "code",
      "source": [
        "# Checking review count where helpful votes greater than 5\n",
        "df_vine.select().where(df_vine.helpful_votes>5).count()"
      ],
      "metadata": {
        "colab": {
          "base_uri": "https://localhost:8080/"
        },
        "id": "PE5nN8DTYnTO",
        "outputId": "71de7478-ad5c-4768-849f-b37ae7a8cfc0"
      },
      "execution_count": 17,
      "outputs": [
        {
          "output_type": "execute_result",
          "data": {
            "text/plain": [
              "188"
            ]
          },
          "metadata": {},
          "execution_count": 17
        }
      ]
    },
    {
      "cell_type": "code",
      "source": [
        "# Checking review count where total votes greater than 5\n",
        "df_vine.select().where(df_vine.total_votes>5).count()"
      ],
      "metadata": {
        "colab": {
          "base_uri": "https://localhost:8080/"
        },
        "id": "IdnF6DjPc3ib",
        "outputId": "04e3f7d4-312a-4cbc-9ac4-f2cda18fec17"
      },
      "execution_count": 18,
      "outputs": [
        {
          "output_type": "execute_result",
          "data": {
            "text/plain": [
              "272"
            ]
          },
          "metadata": {},
          "execution_count": 18
        }
      ]
    },
    {
      "cell_type": "code",
      "source": [
        "#checking average star rating for products where helpful votes greater than 5\n",
        "df_vine_star_helpful=df.filter(df_vine.helpful_votes>5)\n",
        "df_vine_star_helpful.select(mean('star_rating')).show()"
      ],
      "metadata": {
        "colab": {
          "base_uri": "https://localhost:8080/"
        },
        "id": "8G1MoWxCaL8z",
        "outputId": "fe000963-aa47-4183-dfdf-728a350739d2"
      },
      "execution_count": 19,
      "outputs": [
        {
          "output_type": "stream",
          "name": "stdout",
          "text": [
            "+------------------+\n",
            "|  avg(star_rating)|\n",
            "+------------------+\n",
            "|3.8673150146727138|\n",
            "+------------------+\n",
            "\n"
          ]
        }
      ]
    },
    {
      "cell_type": "code",
      "source": [
        "#checking average star rating for products where total votes greater than 5\n",
        "df_vine_star_total=df.filter(df_vine.total_votes>5)\n",
        "df_vine_star_total.select(mean('star_rating')).show()"
      ],
      "metadata": {
        "colab": {
          "base_uri": "https://localhost:8080/"
        },
        "id": "lgdW1NUScPV6",
        "outputId": "56a132e4-0a43-451c-a4b8-2a243ddeab49"
      },
      "execution_count": 20,
      "outputs": [
        {
          "output_type": "stream",
          "name": "stdout",
          "text": [
            "+-----------------+\n",
            "| avg(star_rating)|\n",
            "+-----------------+\n",
            "|3.600273761055735|\n",
            "+-----------------+\n",
            "\n"
          ]
        }
      ]
    },
    {
      "cell_type": "code",
      "source": [
        "#Checking number of reviews where total votes and helpful votes both greater than 5\n",
        "df_vine.select().where((df_vine.total_votes>5) & (df_vine.helpful_votes>5) ).count()"
      ],
      "metadata": {
        "colab": {
          "base_uri": "https://localhost:8080/"
        },
        "id": "42qf3p5cdjcy",
        "outputId": "af6e323a-aad5-4298-db16-67bd6458837d"
      },
      "execution_count": 21,
      "outputs": [
        {
          "output_type": "execute_result",
          "data": {
            "text/plain": [
              "188"
            ]
          },
          "metadata": {},
          "execution_count": 21
        }
      ]
    },
    {
      "cell_type": "code",
      "source": [
        "#Checking average starrating for products where total_votes and helpful votes both greater than 5\n",
        "df_vine_star=df.filter((df_vine.total_votes>5)&(df_vine.helpful_votes>5))\n",
        "df_vine_star.select(mean('star_rating')).show()"
      ],
      "metadata": {
        "colab": {
          "base_uri": "https://localhost:8080/"
        },
        "id": "DEdlSCbPeDGH",
        "outputId": "4d360d37-a73b-4b2c-c4c9-697b8cfba37a"
      },
      "execution_count": 22,
      "outputs": [
        {
          "output_type": "stream",
          "name": "stdout",
          "text": [
            "+------------------+\n",
            "|  avg(star_rating)|\n",
            "+------------------+\n",
            "|3.8673150146727138|\n",
            "+------------------+\n",
            "\n"
          ]
        }
      ]
    },
    {
      "cell_type": "code",
      "source": [
        "# Checking number of reviews where star_rating is 5\n",
        "df_vine_5star=df_vine.filter(df_vine.star_rating==5)\n",
        "df_vine_5star.select('review_id').distinct().count()"
      ],
      "metadata": {
        "colab": {
          "base_uri": "https://localhost:8080/"
        },
        "id": "tSF37LHhyVsI",
        "outputId": "3465b26f-20c6-4a8d-8eaa-a6879811898e"
      },
      "execution_count": 23,
      "outputs": [
        {
          "output_type": "execute_result",
          "data": {
            "text/plain": [
              "605"
            ]
          },
          "metadata": {},
          "execution_count": 23
        }
      ]
    },
    {
      "cell_type": "code",
      "source": [
        "#Checking 20 products where starrating is 1 with helpful votes in descending order\n",
        "from pyspark.sql.functions import desc\n",
        "\n",
        "low_vine_helpful_votes = df_vine.orderBy(df_vine.helpful_votes.desc())\n",
        "low_vine_helpful_votes = low_vine_helpful_votes.filter('star_rating = 1')\n",
        "\n",
        "print(\"Worst 20 rated products with the top helpful votes for VINE CUSTOMERS\")\n",
        "low_vine_helpful_votes.show()"
      ],
      "metadata": {
        "colab": {
          "base_uri": "https://localhost:8080/"
        },
        "id": "ZQnrsvPYhvuI",
        "outputId": "82e27f8f-03a6-496c-a132-18a8bc79cb1e"
      },
      "execution_count": 24,
      "outputs": [
        {
          "output_type": "stream",
          "name": "stdout",
          "text": [
            "Worst 20 rated products with the top helpful votes for VINE CUSTOMERS\n",
            "+-----------+-----------+--------------+----------+--------------+--------------------+----------------+-----------+-------------+-----------+----+-----------------+--------------------+--------------------+-----------+\n",
            "|marketplace|customer_id|     review_id|product_id|product_parent|       product_title|product_category|star_rating|helpful_votes|total_votes|vine|verified_purchase|     review_headline|         review_body|review_date|\n",
            "+-----------+-----------+--------------+----------+--------------+--------------------+----------------+-----------+-------------+-----------+----+-----------------+--------------------+--------------------+-----------+\n",
            "|         US|   48164338| REZLEYIW61ZA1|B005DRE2LI|     432683687|Invicta Men's 143...|         Watches|          1|           26|         29|   Y|                N|Very large, easy ...|This watch comes ...| 2011-09-20|\n",
            "|         US|   43713823|R2UGJVWDAPAFN3|B00542NE98|     251193202|Invicta Women's 1...|         Watches|          1|           24|         27|   Y|                N|Cute & great colo...|The only good thi...| 2011-08-23|\n",
            "|         US|   44412246|R3EF5VBX4JMRVC|B0056GHWK4|     786799560|Invicta Men's 132...|         Watches|          1|            9|         13|   Y|                N|Mfr's Suggested R...|When I first rece...| 2011-10-21|\n",
            "|         US|   48156368|R2ODQN4HRKAHG9|B005LR7ROY|     128212762|Invicta Unisex IS...|         Watches|          1|            7|          7|   Y|                N|One size fits all...|I tried to think ...| 2011-12-22|\n",
            "|         US|   52894480|R27XRHL3O80RMA|B00U0XC21W|     885997216|Akribos XXIV Men'...|         Watches|          1|            6|          9|   Y|                N|Confusing and poo...|With watches, it'...| 2015-06-07|\n",
            "|         US|   35935337|R1DPH5MVHU3UVG|B005FN02GE|     526812919|Invicta Men's 153...|         Watches|          1|            4|          7|   Y|                N|Unwearable, at le...|I almost never wr...| 2011-12-25|\n",
            "|         US|   51208068|R342VF3IH8R593|B0057Z253I|      63884169|Invicta Women's 1...|         Watches|          1|            3|          5|   Y|                N|This has got to b...|This sells on Ama...| 2011-12-02|\n",
            "|         US|   50842604|R3THCYWVKS5IO1|B005LR7ROY|     128212762|Invicta Unisex IS...|         Watches|          1|            3|          3|   Y|                N|Built for Patient...|I'm a 6'3 male, a...| 2011-12-22|\n",
            "|         US|   34623448| RJFEP8F5X9NNI|B00542NEMU|     439867231|Invicta Women's 1...|         Watches|          1|            3|          3|   Y|                N|     Feels too cheap|I was excited to ...| 2011-09-07|\n",
            "|         US|   52736252|R20F534L2J4MHT|B0056GHWKE|     583745396|Invicta Men's 143...|         Watches|          1|            3|          5|   Y|                N|A watch so heavy ...|This \\\\\"watch\\\\\" ...| 2011-09-23|\n",
            "|         US|   52539517| R2IXJLPBK24E4|B00556FGEO|     361936373|Invicta Men's 143...|         Watches|          1|            3|          5|   Y|                N|stylish but way t...|I like wrist watc...| 2011-09-22|\n",
            "|         US|   50690611| RCQ3FX4RDMYDZ|B005FMZS14|     377803901|Invicta Men's 147...|         Watches|          1|            3|          4|   Y|                N|A large manly wat...|UPDATE SEP 4, 201...| 2011-12-22|\n",
            "|         US|   51742815|R1QVRW1C0XZ8JM|B00EVPRV4S|     164633476|Akribos XXIV Men'...|         Watches|          1|            3|          4|   Y|                N|Clasp Would Not S...|At first, I have ...| 2015-07-08|\n",
            "|         US|   45778690|R3J3WAJKQLMG7K|B005LR7ROY|     128212762|Invicta Unisex IS...|         Watches|          1|            3|          3|   Y|                N|         Do Not Buy!|I have never come...| 2011-12-22|\n",
            "|         US|   51701856| R66S96D9TMAC1|B005FN08HC|     904475414|Invicta Men's 155...|         Watches|          1|            3|          4|   Y|                N|Bulky, Uncomforta...|I was really exci...| 2011-12-20|\n",
            "|         US|   38536727| R7VGDDR1IS39M|B00542NE98|     251193202|Invicta Women's 1...|         Watches|          1|            2|          2|   Y|                N|                  No|First, I don't un...| 2011-09-15|\n",
            "|         US|   52173898|R3KGNL38KBKYVT|B0057Z1YWG|      43071468|Invicta Women's 1...|         Watches|          1|            2|          2|   Y|                N| Cheap, cheap, cheap|This watch looks ...| 2012-01-13|\n",
            "|         US|   50818414|R1XSV6ESVMOOXV|B00HX8ELCA|     612638743|kate spade new yo...|         Watches|          1|            2|          2|   Y|                N|             Warning|Amazon Vine Membe...| 2015-04-14|\n",
            "|         US|   52821302|R358ZN5S5DA767|B00ATULAUK|     618027387|Invicta Women's 1...|         Watches|          1|            2|          7|   Y|                N|            Too big!|This is my first ...| 2013-03-31|\n",
            "|         US|   38789600|R3GJI8QYX7OQ1V|B00ATULA6Y|     773950366|Invicta Women's 1...|         Watches|          1|            2|          4|   Y|                N|       WAAAY too big|Of initial note, ...| 2013-04-07|\n",
            "+-----------+-----------+--------------+----------+--------------+--------------------+----------------+-----------+-------------+-----------+----+-----------------+--------------------+--------------------+-----------+\n",
            "only showing top 20 rows\n",
            "\n"
          ]
        }
      ]
    },
    {
      "cell_type": "markdown",
      "source": [
        "## Analysis for non_vine custimers"
      ],
      "metadata": {
        "id": "BJiSe8mtjKOO"
      }
    },
    {
      "cell_type": "code",
      "source": [
        "#Checking summary statistics of starratings , helpful votes and total votes for nonvine customers \n",
        "nonvine_summary_analysis_df = df_nonvine.select([\"star_rating\",\"helpful_votes\",\"total_votes\"]).describe()\n",
        "\n",
        "print(\"Summary statistics for NON_VINE CUSTOMERS\")\n",
        "nonvine_summary_analysis_df.show()"
      ],
      "metadata": {
        "colab": {
          "base_uri": "https://localhost:8080/"
        },
        "id": "DNGjSoTjjHoT",
        "outputId": "bfd283a4-9365-4dd5-f5f3-ae3e7806461e"
      },
      "execution_count": 25,
      "outputs": [
        {
          "output_type": "stream",
          "name": "stdout",
          "text": [
            "Summary statistics for NON_VINE CUSTOMERS\n",
            "+-------+------------------+------------------+-----------------+\n",
            "|summary|       star_rating|     helpful_votes|      total_votes|\n",
            "+-------+------------------+------------------+-----------------+\n",
            "|  count|            958932|            958932|           958932|\n",
            "|   mean| 4.138437344879512|1.1928822898808258|1.556204193832305|\n",
            "| stddev|1.2938410587847065| 8.153765015489055|9.061132029872812|\n",
            "|    min|                 1|                 0|                0|\n",
            "|    max|                 5|              4004|             4249|\n",
            "+-------+------------------+------------------+-----------------+\n",
            "\n"
          ]
        }
      ]
    },
    {
      "cell_type": "code",
      "source": [
        "# Checking total votes for each star ratings for nonvine customers\n",
        "from pyspark.sql.functions import mean, min, max, count,sum\n",
        "df_nonvine.groupBy('star_rating').sum('total_votes').show()"
      ],
      "metadata": {
        "colab": {
          "base_uri": "https://localhost:8080/"
        },
        "id": "6jqD9zVojHfM",
        "outputId": "685b8c9a-7f29-4c0d-af54-b57ad14daa11"
      },
      "execution_count": 26,
      "outputs": [
        {
          "output_type": "stream",
          "name": "stdout",
          "text": [
            "+-----------+----------------+\n",
            "|star_rating|sum(total_votes)|\n",
            "+-----------+----------------+\n",
            "|          1|          253208|\n",
            "|          3|          140270|\n",
            "|          5|          753157|\n",
            "|          4|          238579|\n",
            "|          2|          107080|\n",
            "+-----------+----------------+\n",
            "\n"
          ]
        }
      ]
    },
    {
      "cell_type": "code",
      "source": [
        "# Checking helpful votes for each star ratings for nonvine customers\n",
        "df_nonvine.groupBy('star_rating').sum('helpful_votes').show()"
      ],
      "metadata": {
        "colab": {
          "base_uri": "https://localhost:8080/"
        },
        "id": "NSPFopeUjHUa",
        "outputId": "61122074-ac1a-411f-91d5-8fcc7c4a4931"
      },
      "execution_count": 27,
      "outputs": [
        {
          "output_type": "stream",
          "name": "stdout",
          "text": [
            "+-----------+------------------+\n",
            "|star_rating|sum(helpful_votes)|\n",
            "+-----------+------------------+\n",
            "|          1|            152988|\n",
            "|          3|             97523|\n",
            "|          5|            629342|\n",
            "|          4|            195129|\n",
            "|          2|             68911|\n",
            "+-----------+------------------+\n",
            "\n"
          ]
        }
      ]
    },
    {
      "cell_type": "code",
      "source": [
        "# Checking review count where helpful votes greater than 5 for nonvine customers\n",
        "df_nonvine.select().where(df_nonvine.helpful_votes>5).count()"
      ],
      "metadata": {
        "colab": {
          "base_uri": "https://localhost:8080/"
        },
        "id": "f66H9LUnjHBs",
        "outputId": "0cce58c1-c611-4e96-9adc-1e7754e95d4e"
      },
      "execution_count": 28,
      "outputs": [
        {
          "output_type": "execute_result",
          "data": {
            "text/plain": [
              "41045"
            ]
          },
          "metadata": {},
          "execution_count": 28
        }
      ]
    },
    {
      "cell_type": "code",
      "source": [
        "# Checking review count where total votes greater than 5 for nonvine customers\n",
        "df_nonvine.select().where(df_nonvine.total_votes>5).count()"
      ],
      "metadata": {
        "colab": {
          "base_uri": "https://localhost:8080/"
        },
        "id": "CH6iv5_djGlk",
        "outputId": "9f4e1ef7-29f9-460c-e05e-358d91482257"
      },
      "execution_count": 29,
      "outputs": [
        {
          "output_type": "execute_result",
          "data": {
            "text/plain": [
              "56712"
            ]
          },
          "metadata": {},
          "execution_count": 29
        }
      ]
    },
    {
      "cell_type": "code",
      "source": [
        "#checking average star rating for products where helpful votes greater than 5\n",
        "df_nonvine_star_helpful=df.filter(df_nonvine.helpful_votes>5)\n",
        "df_nonvine_star_helpful.select(mean('star_rating')).show()"
      ],
      "metadata": {
        "colab": {
          "base_uri": "https://localhost:8080/"
        },
        "id": "E0dZ5Y8zz3P6",
        "outputId": "bd5e6729-a22c-41c4-8195-ed9c9714582c"
      },
      "execution_count": 30,
      "outputs": [
        {
          "output_type": "stream",
          "name": "stdout",
          "text": [
            "+------------------+\n",
            "|  avg(star_rating)|\n",
            "+------------------+\n",
            "|3.8673150146727138|\n",
            "+------------------+\n",
            "\n"
          ]
        }
      ]
    },
    {
      "cell_type": "code",
      "source": [
        "#checking average star rating for products where total votes greater than 5\n",
        "df_nonvine_star_total=df_nonvine.filter(df_nonvine.total_votes>5)\n",
        "df_nonvine_star_total.select(mean('star_rating')).show()"
      ],
      "metadata": {
        "colab": {
          "base_uri": "https://localhost:8080/"
        },
        "id": "-ETxt2f0z3JR",
        "outputId": "bba13662-1bd3-4906-b03c-78074d8a87a0"
      },
      "execution_count": 31,
      "outputs": [
        {
          "output_type": "stream",
          "name": "stdout",
          "text": [
            "+-----------------+\n",
            "| avg(star_rating)|\n",
            "+-----------------+\n",
            "|3.598532938355198|\n",
            "+-----------------+\n",
            "\n"
          ]
        }
      ]
    },
    {
      "cell_type": "code",
      "source": [
        "#Checking number of reviews where total votes and helpful votes both greater than 5\n",
        "df_nonvine.select().where((df_nonvine.total_votes>5) & (df_nonvine.helpful_votes>5) ).count()"
      ],
      "metadata": {
        "colab": {
          "base_uri": "https://localhost:8080/"
        },
        "id": "lVIpdmMOz3Eh",
        "outputId": "80c8c017-a08e-42db-81e5-beedf15466ce"
      },
      "execution_count": 32,
      "outputs": [
        {
          "output_type": "execute_result",
          "data": {
            "text/plain": [
              "41045"
            ]
          },
          "metadata": {},
          "execution_count": 32
        }
      ]
    },
    {
      "cell_type": "code",
      "source": [
        "#Checking average starrating for products where total_votes and helpful votes both greater than 5\n",
        "df_nonvine_star=df_nonvine.filter((df_nonvine.total_votes>5)&(df_nonvine.helpful_votes>5))\n",
        "df_nonvine_star.select(mean('star_rating')).show()"
      ],
      "metadata": {
        "colab": {
          "base_uri": "https://localhost:8080/"
        },
        "id": "GGF7NPqpz2_h",
        "outputId": "12547592-b70f-4c39-b48e-e8928c323766"
      },
      "execution_count": 33,
      "outputs": [
        {
          "output_type": "stream",
          "name": "stdout",
          "text": [
            "+-----------------+\n",
            "| avg(star_rating)|\n",
            "+-----------------+\n",
            "|3.866634181995371|\n",
            "+-----------------+\n",
            "\n"
          ]
        }
      ]
    },
    {
      "cell_type": "code",
      "source": [
        "# Checking number of reviews where star_rating is 5\n",
        "df_nonvine_5star=df_nonvine.filter(df_nonvine.star_rating==5)\n",
        "df_nonvine_5star.count()"
      ],
      "metadata": {
        "colab": {
          "base_uri": "https://localhost:8080/"
        },
        "id": "4kBLn80bz25g",
        "outputId": "1d4b103b-26eb-4de1-d520-a2fb5abdab47"
      },
      "execution_count": 34,
      "outputs": [
        {
          "output_type": "execute_result",
          "data": {
            "text/plain": [
              "570888"
            ]
          },
          "metadata": {},
          "execution_count": 34
        }
      ]
    },
    {
      "cell_type": "code",
      "source": [
        "#Checking 20 products where starrating is 1 with helpful votes in descending order\n",
        "from pyspark.sql.functions import desc\n",
        "\n",
        "low_nonvine_helpful_votes = df_nonvine.orderBy(df_nonvine.helpful_votes.desc())\n",
        "low_nonvine_helpful_votes = low_nonvine_helpful_votes.filter('star_rating = 1')\n",
        "\n",
        "print(\"Worst 20 rated products with the top helpful votes for NON VINE CUSTOMERS\")\n",
        "low_nonvine_helpful_votes.show()"
      ],
      "metadata": {
        "colab": {
          "base_uri": "https://localhost:8080/"
        },
        "id": "jNwwCKKHz2xt",
        "outputId": "2be6578e-702c-4dc8-be05-c00cf414bf70"
      },
      "execution_count": 35,
      "outputs": [
        {
          "output_type": "stream",
          "name": "stdout",
          "text": [
            "Worst 20 rated products with the top helpful votes for NON VINE CUSTOMERS\n",
            "+-----------+-----------+--------------+----------+--------------+--------------------+----------------+-----------+-------------+-----------+----+-----------------+--------------------+--------------------+-----------+\n",
            "|marketplace|customer_id|     review_id|product_id|product_parent|       product_title|product_category|star_rating|helpful_votes|total_votes|vine|verified_purchase|     review_headline|         review_body|review_date|\n",
            "+-----------+-----------+--------------+----------+--------------+--------------------+----------------+-----------+-------------+-----------+----+-----------------+--------------------+--------------------+-----------+\n",
            "|         US|   18765196|R3PA20VZXRWHTJ|B001K3IXW8|     728413681|Zenith Men's 96.0...|         Watches|          1|         1372|       1498|   N|                N|$9.95 shipping......|I had decided on ...| 2010-06-21|\n",
            "|         US|   51277649|R1CCAPD7CHQ6V7|B001K3IXW8|     728413681|Zenith Men's 96.0...|         Watches|          1|          753|        901|   N|                N|I deserve excellence|I bought a couple...| 2009-12-02|\n",
            "|         US|   27561723|R2Y86VFYWS7GQ7|B000T9VK56|     688076877|SE JT6216 21-Piec...|         Watches|          1|          503|        547|   N|                Y|       maybe once...|When I bought thi...| 2009-03-23|\n",
            "|         US|   52776138|R2MDZHWUZHQPKC|B00NC8PMUK|     944169262|Motorola Moto 360...|         Watches|          1|          462|        568|   N|                N|An aggregation of...|I wanted to love ...| 2014-10-18|\n",
            "|         US|   41004126|R3F9HRT1P6X987|B001N07JYG|     308790224|Zenith Academy To...|         Watches|          1|          302|        342|   N|                N|I dont get anymor...|After buying this...| 2013-01-23|\n",
            "|         US|   42739094|R1H3DMBGSREYHE|B0030ZRXG6|     889138425|Luminox Evo Navy ...|         Watches|          1|          300|        318|   N|                Y|Disappointing. An...|I ordered this wa...| 2013-11-04|\n",
            "|         US|   12184075|R1TYDOEJZPHW6U|B000T9VK56|     688076877|SE JT6216 21-Piec...|         Watches|          1|          275|        298|   N|                N|Watch tools quali...|These tools look ...| 2008-11-22|\n",
            "|         US|   11582646|R3P6FK8HTVZ7L5|B008D902Q2|     308184030|U.S. Polo Assn. S...|         Watches|          1|          251|        261|   N|                Y|Do not buy, crapp...|These should dese...| 2014-10-24|\n",
            "|         US|   12371365| R2LEIT3BIP135|B001K3IXW8|     728413681|Zenith Men's 96.0...|         Watches|          1|          232|        271|   N|                N|Not really lava r...|I bought this wat...| 2010-03-18|\n",
            "|         US|   35395345|R2LITOF9FBJ2LF|B000L3CHC0|     469592509|Tissot Men's T171...|         Watches|          1|          217|        250|   N|                Y|   What? No Warranty|I purchased my Ti...| 2009-05-13|\n",
            "|         US|   16507724|R18GV0PZ5P7ATA|B000XJ7GFK|     238071868|Michael Kors Mids...|         Watches|          1|          199|        219|   N|                N|        Poor quality|I bought this wat...| 2011-08-17|\n",
            "|         US|   30843069|R2XF98MYGB6BP8|B002XUN6OC|     541014432|Tag Heuer Men's A...|         Watches|          1|          188|        237|   N|                Y| AMAZON and Jomashop|I know a number o...| 2012-01-03|\n",
            "|         US|   12133094| R4S7Y8YTJC7YD|B000WFBC6E|     664258681|Mondaine A990.CLO...|         Watches|          1|          188|        196|   N|                Y|Disappointing qua...|[[VIDEOID:mo2AOJP...| 2012-06-24|\n",
            "|         US|   23651746|R10RWLCZ58DY5U|B0006AAS7E|     688108654|Invicta Men's 893...|         Watches|          1|          183|        218|   N|                Y|I'm very disappoi...|I recieved this w...| 2009-11-18|\n",
            "|         US|   17765457| RVO8F0KTVWCLE|B000JQJS6M|     926299553|Invicta Men's 892...|         Watches|          1|          177|        199|   N|                Y|Returned from rep...|This Invicta watc...| 2011-02-05|\n",
            "|         US|   41549191|R26TMAASM7B9FJ|B000BUZCNY|     941038684|Cartier Ladies Ta...|         Watches|          1|          173|        183|   N|                N|An Even Better Ti...|I have a far bett...| 2006-05-05|\n",
            "|         US|    6741138|R2UAIEO8TBZP9S|B004GYXO9U|     830154760|Men's 18K Gold Ro...|         Watches|          1|          165|        314|   N|                N|        Disappointed|I bought this \\\\\"...| 2013-09-29|\n",
            "|         US|   49872707|R3DBUEVF6EKEL1|B00BP6FRYC|     482705803|Audemars Piguet J...|         Watches|          1|          162|        184|   N|                N|Buying this Watch...|I was surfing Ama...| 2014-05-04|\n",
            "|         US|   11637388|R1MBAQPKY114R8|B00962GVVU|     818922586|Invicta Women's 1...|         Watches|          1|          156|        178|   N|                N|The Walmart versi...|If you check with...| 2012-11-21|\n",
            "|         US|   15919180| RYOQ249GIAESV|B009MA9GPE|     200509702|PromiseU Leather ...|         Watches|          1|          150|        172|   N|                Y|Cheaply Made and ...|I wasn't expectin...| 2013-09-18|\n",
            "+-----------+-----------+--------------+----------+--------------+--------------------+----------------+-----------+-------------+-----------+----+-----------------+--------------------+--------------------+-----------+\n",
            "only showing top 20 rows\n",
            "\n"
          ]
        }
      ]
    },
    {
      "cell_type": "markdown",
      "source": [
        "## Analysis on Amazon Vine Program:\n",
        "\n",
        "1. We can see that the percentage of 5-star reviews in Vine is not very close to non-Vine reviews (34.63% for vine to 59.53% for nonvine).\n",
        "\n",
        "2. Both average star rating for vine and non vine customers is near 4%\n",
        "\n",
        "3. Both or vine and nonvine customers, numbers of reviews with only helpful votes  greater than 5 and with both helpful votes and total votes greater than 5 are same.\n",
        "\n",
        "4. Apart from 5 products, all other products rated 1 don't have helpful vote greater than 5 in case of vine customers.\n",
        "\n",
        "5. In case of both vine and non vine customers average starrating is around 3.5 for products with helpful and total votes greater than 5. \n",
        "\n",
        "\n",
        "So based on the above results it can be considered that Amzon Vine Reviews are not biased."
      ],
      "metadata": {
        "id": "kjGMu-NKB3XZ"
      }
    },
    {
      "cell_type": "code",
      "source": [
        ""
      ],
      "metadata": {
        "id": "HDrDxHLlLEfd"
      },
      "execution_count": null,
      "outputs": []
    }
  ],
  "metadata": {
    "colab": {
      "name": "Watches_Review_Analysis .ipynb",
      "provenance": [],
      "collapsed_sections": []
    },
    "kernelspec": {
      "display_name": "Python 3",
      "language": "python",
      "name": "python3"
    },
    "language_info": {
      "codemirror_mode": {
        "name": "ipython",
        "version": 3
      },
      "file_extension": ".py",
      "mimetype": "text/x-python",
      "name": "python",
      "nbconvert_exporter": "python",
      "pygments_lexer": "ipython3",
      "version": "3.7.4"
    },
    "latex_envs": {
      "LaTeX_envs_menu_present": true,
      "autoclose": false,
      "autocomplete": true,
      "bibliofile": "biblio.bib",
      "cite_by": "apalike",
      "current_citInitial": 1,
      "eqLabelWithNumbers": true,
      "eqNumInitial": 1,
      "hotkeys": {
        "equation": "Ctrl-E",
        "itemize": "Ctrl-I"
      },
      "labels_anchors": false,
      "latex_user_defs": false,
      "report_style_numbering": false,
      "user_envs_cfg": false
    }
  },
  "nbformat": 4,
  "nbformat_minor": 0
}