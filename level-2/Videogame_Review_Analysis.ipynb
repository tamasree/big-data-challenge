{
  "cells": [
    {
      "cell_type": "code",
      "execution_count": null,
      "metadata": {
        "colab": {
          "base_uri": "https://localhost:8080/"
        },
        "id": "Y6pz7LGh_L1p",
        "outputId": "2d089c09-36bb-4f4a-f4cc-d6d6bed7d934"
      },
      "outputs": [
        {
          "output_type": "stream",
          "name": "stdout",
          "text": [
            "\r0% [Working]\r            \rGet:1 https://cloud.r-project.org/bin/linux/ubuntu bionic-cran40/ InRelease [3,626 B]\n",
            "\r0% [Waiting for headers] [Waiting for headers] [1 InRelease 0 B/3,626 B 0%] [Wa\r0% [Waiting for headers] [Waiting for headers] [Waiting for headers] [Waiting f\r0% [1 InRelease gpgv 3,626 B] [Waiting for headers] [Waiting for headers] [Wait\r                                                                               \rIgn:2 https://developer.download.nvidia.com/compute/cuda/repos/ubuntu1804/x86_64  InRelease\n",
            "Get:3 http://security.ubuntu.com/ubuntu bionic-security InRelease [88.7 kB]\n",
            "Get:4 http://ppa.launchpad.net/c2d4u.team/c2d4u4.0+/ubuntu bionic InRelease [15.9 kB]\n",
            "Hit:5 http://archive.ubuntu.com/ubuntu bionic InRelease\n",
            "Ign:6 https://developer.download.nvidia.com/compute/machine-learning/repos/ubuntu1804/x86_64  InRelease\n",
            "Get:7 https://developer.download.nvidia.com/compute/cuda/repos/ubuntu1804/x86_64  Release [696 B]\n",
            "Hit:8 https://developer.download.nvidia.com/compute/machine-learning/repos/ubuntu1804/x86_64  Release\n",
            "Get:9 https://developer.download.nvidia.com/compute/cuda/repos/ubuntu1804/x86_64  Release.gpg [836 B]\n",
            "Get:10 http://archive.ubuntu.com/ubuntu bionic-updates InRelease [88.7 kB]\n",
            "Hit:11 http://ppa.launchpad.net/cran/libgit2/ubuntu bionic InRelease\n",
            "Get:12 http://archive.ubuntu.com/ubuntu bionic-backports InRelease [74.6 kB]\n",
            "Get:13 http://ppa.launchpad.net/deadsnakes/ppa/ubuntu bionic InRelease [15.9 kB]\n",
            "Get:14 https://cloud.r-project.org/bin/linux/ubuntu bionic-cran40/ Packages [76.0 kB]\n",
            "Hit:15 http://ppa.launchpad.net/graphics-drivers/ppa/ubuntu bionic InRelease\n",
            "Get:17 https://developer.download.nvidia.com/compute/cuda/repos/ubuntu1804/x86_64  Packages [872 kB]\n",
            "Get:18 http://ppa.launchpad.net/c2d4u.team/c2d4u4.0+/ubuntu bionic/main Sources [1,823 kB]\n",
            "Get:19 http://security.ubuntu.com/ubuntu bionic-security/universe amd64 Packages [1,463 kB]\n",
            "Get:20 http://ppa.launchpad.net/c2d4u.team/c2d4u4.0+/ubuntu bionic/main amd64 Packages [934 kB]\n",
            "Get:21 http://security.ubuntu.com/ubuntu bionic-security/restricted amd64 Packages [738 kB]\n",
            "Get:22 http://security.ubuntu.com/ubuntu bionic-security/main amd64 Packages [2,516 kB]\n",
            "Get:23 http://archive.ubuntu.com/ubuntu bionic-updates/universe amd64 Packages [2,242 kB]\n",
            "Get:24 http://archive.ubuntu.com/ubuntu bionic-updates/restricted amd64 Packages [771 kB]\n",
            "Get:25 http://archive.ubuntu.com/ubuntu bionic-updates/main amd64 Packages [2,954 kB]\n",
            "Get:26 http://ppa.launchpad.net/deadsnakes/ppa/ubuntu bionic/main amd64 Packages [45.3 kB]\n",
            "Fetched 14.7 MB in 6s (2,376 kB/s)\n",
            "Reading package lists... Done\n"
          ]
        }
      ],
      "source": [
        "import os\n",
        "# Find the latest version of spark 3.0  from http://www.apache.org/dist/spark/ and enter as the spark version\n",
        "# For example:\n",
        "# spark_version = 'spark-3.0.3'\n",
        "spark_version = 'spark-3.2.0'\n",
        "os.environ['SPARK_VERSION']=spark_version\n",
        "\n",
        "# Install Spark and Java\n",
        "!apt-get update\n",
        "!apt-get install openjdk-8-jdk-headless -qq > /dev/null\n",
        "!wget -q http://www.apache.org/dist/spark/$SPARK_VERSION/$SPARK_VERSION-bin-hadoop2.7.tgz\n",
        "!tar xf $SPARK_VERSION-bin-hadoop2.7.tgz\n",
        "!pip install -q findspark\n",
        "\n",
        "# Set Environment Variables\n",
        "import os\n",
        "os.environ[\"JAVA_HOME\"] = \"/usr/lib/jvm/java-8-openjdk-amd64\"\n",
        "os.environ[\"SPARK_HOME\"] = f\"/content/{spark_version}-bin-hadoop2.7\"\n",
        "\n",
        "# Start a SparkSession\n",
        "import findspark\n",
        "findspark.init()"
      ]
    },
    {
      "cell_type": "code",
      "execution_count": null,
      "metadata": {
        "id": "vE6a0bfGMnxF"
      },
      "outputs": [],
      "source": [
        "from pyspark.sql import SparkSession\n",
        "spark = SparkSession.builder.appName(\"VideoGameETL\").config(\"spark.driver.extraClassPath\",\"/content/postgresql-42.2.9.jar\").getOrCreate()"
      ]
    },
    {
      "cell_type": "code",
      "execution_count": null,
      "metadata": {
        "colab": {
          "base_uri": "https://localhost:8080/"
        },
        "id": "aIGU4Tzs_Q4g",
        "outputId": "3d382121-5e89-4417-ac1e-171ec954eda3"
      },
      "outputs": [
        {
          "output_type": "stream",
          "name": "stdout",
          "text": [
            "+-----------+-----------+--------------+----------+--------------+--------------------+----------------+-----------+-------------+-----------+----+-----------------+--------------------+--------------------+-----------+\n",
            "|marketplace|customer_id|     review_id|product_id|product_parent|       product_title|product_category|star_rating|helpful_votes|total_votes|vine|verified_purchase|     review_headline|         review_body|review_date|\n",
            "+-----------+-----------+--------------+----------+--------------+--------------------+----------------+-----------+-------------+-----------+----+-----------------+--------------------+--------------------+-----------+\n",
            "|         US|   12039526| RTIS3L2M1F5SM|B001CXYMFS|     737716809|Thrustmaster T-Fl...|     Video Games|          5|            0|          0|   N|                Y|an amazing joysti...|Used this for Eli...| 2015-08-31|\n",
            "|         US|    9636577| R1ZV7R40OLHKD|B00M920ND6|     569686175|Tonsee 6 buttons ...|     Video Games|          5|            0|          0|   N|                Y|Definitely a sile...|Loved it,  I didn...| 2015-08-31|\n",
            "|         US|    2331478|R3BH071QLH8QMC|B0029CSOD2|      98937668|Hidden Mysteries:...|     Video Games|          1|            0|          1|   N|                Y|            One Star|poor quality work...| 2015-08-31|\n",
            "|         US|   52495923|R127K9NTSXA2YH|B00GOOSV98|      23143350|GelTabz Performan...|     Video Games|          3|            0|          0|   N|                Y|good, but could b...|nice, but tend to...| 2015-08-31|\n",
            "|         US|   14533949|R32ZWUXDJPW27Q|B00Y074JOM|     821342511|Zero Suit Samus a...|     Video Games|          4|            0|          0|   N|                Y|   Great but flawed.|Great amiibo, gre...| 2015-08-31|\n",
            "|         US|    2377552|R3AQQ4YUKJWBA6|B002UBI6W6|     328764615|Psyclone Recharge...|     Video Games|          1|            0|          0|   N|                Y|            One Star|The remote consta...| 2015-08-31|\n",
            "|         US|   17521011|R2F0POU5K6F73F|B008XHCLFO|      24234603|Protection for yo...|     Video Games|          5|            0|          0|   N|                Y|              A Must|I have a 2012-201...| 2015-08-31|\n",
            "|         US|   19676307|R3VNR804HYSMR6|B00BRA9R6A|     682267517|   Nerf 3DS XL Armor|     Video Games|          5|            0|          0|   N|                Y|          Five Stars|Perfect, kids lov...| 2015-08-31|\n",
            "|         US|     224068| R3GZTM72WA2QH|B009EPWJLA|     435241890|One Piece: Pirate...|     Video Games|          5|            0|          0|   N|                Y|          Five Stars|            Excelent| 2015-08-31|\n",
            "|         US|   48467989| RNQOY62705W1K|B0000AV7GB|     256572651|Playstation 2 Dan...|     Video Games|          4|            0|          0|   N|                Y|          Four Stars|Slippery but expe...| 2015-08-31|\n",
            "+-----------+-----------+--------------+----------+--------------+--------------------+----------------+-----------+-------------+-----------+----+-----------------+--------------------+--------------------+-----------+\n",
            "only showing top 10 rows\n",
            "\n"
          ]
        }
      ],
      "source": [
        "from pyspark import SparkFiles\n",
        "# Load in from S3 into a DataFrame\n",
        "url = \"https://s3.amazonaws.com/amazon-reviews-pds/tsv/amazon_reviews_us_Video_Games_v1_00.tsv.gz\"\n",
        "spark.sparkContext.addFile(url)\n",
        "\n",
        "df = spark.read.option('header', 'true').csv(SparkFiles.get(\"amazon_reviews_us_Video_Games_v1_00.tsv.gz\"), inferSchema=True, sep='\\t')\n",
        "df.show(10)"
      ]
    },
    {
      "cell_type": "code",
      "execution_count": null,
      "metadata": {
        "colab": {
          "base_uri": "https://localhost:8080/"
        },
        "id": "10qoqQv3_Y_w",
        "outputId": "e018f218-1892-434e-ba0e-5395b583c8c0"
      },
      "outputs": [
        {
          "output_type": "execute_result",
          "data": {
            "text/plain": [
              "1785997"
            ]
          },
          "metadata": {},
          "execution_count": 68
        }
      ],
      "source": [
        "# Total no of rows in this dataset\n",
        "df.count()"
      ]
    },
    {
      "cell_type": "markdown",
      "metadata": {
        "id": "GAgvBYkG_awE"
      },
      "source": [
        "## Examine the schema"
      ]
    },
    {
      "cell_type": "code",
      "execution_count": null,
      "metadata": {
        "colab": {
          "base_uri": "https://localhost:8080/"
        },
        "id": "SXtPi-Hw_dCe",
        "outputId": "006cb95a-aef4-4248-a44e-67e60f701205"
      },
      "outputs": [
        {
          "output_type": "stream",
          "name": "stdout",
          "text": [
            "root\n",
            " |-- marketplace: string (nullable = true)\n",
            " |-- customer_id: integer (nullable = true)\n",
            " |-- review_id: string (nullable = true)\n",
            " |-- product_id: string (nullable = true)\n",
            " |-- product_parent: integer (nullable = true)\n",
            " |-- product_title: string (nullable = true)\n",
            " |-- product_category: string (nullable = true)\n",
            " |-- star_rating: integer (nullable = true)\n",
            " |-- helpful_votes: integer (nullable = true)\n",
            " |-- total_votes: integer (nullable = true)\n",
            " |-- vine: string (nullable = true)\n",
            " |-- verified_purchase: string (nullable = true)\n",
            " |-- review_headline: string (nullable = true)\n",
            " |-- review_body: string (nullable = true)\n",
            " |-- review_date: string (nullable = true)\n",
            "\n"
          ]
        }
      ],
      "source": [
        "df.printSchema()"
      ]
    },
    {
      "cell_type": "code",
      "source": [
        "#Drop rows with null values\n",
        "df=df.dropna()"
      ],
      "metadata": {
        "id": "gHTFCqoxaGEs"
      },
      "execution_count": null,
      "outputs": []
    },
    {
      "cell_type": "code",
      "source": [
        "#Drop duplicates\n",
        "df=df.distinct()"
      ],
      "metadata": {
        "id": "1JxvcLeokIim"
      },
      "execution_count": null,
      "outputs": []
    },
    {
      "cell_type": "code",
      "source": [
        "#Check row count after dropping duplicates\n",
        "df.count()"
      ],
      "metadata": {
        "colab": {
          "base_uri": "https://localhost:8080/"
        },
        "id": "4E1JqbmSaF6y",
        "outputId": "32436f7f-ddda-47da-b4f8-801e20e94f8c"
      },
      "execution_count": null,
      "outputs": [
        {
          "output_type": "execute_result",
          "data": {
            "text/plain": [
              "1785886"
            ]
          },
          "metadata": {},
          "execution_count": 72
        }
      ]
    },
    {
      "cell_type": "code",
      "source": [
        "#Change Review date column type from string to date\n",
        "from pyspark.sql.functions import to_date\n",
        " \n",
        "df = df.withColumn('ReviewDate',to_date(df.review_date, 'yyyy-MM-dd'))\n",
        "df.printSchema()\n",
        "\n"
      ],
      "metadata": {
        "colab": {
          "base_uri": "https://localhost:8080/"
        },
        "id": "os0nMFn_aFwK",
        "outputId": "8255161c-61da-4a82-eccc-c451c321ef27"
      },
      "execution_count": null,
      "outputs": [
        {
          "output_type": "stream",
          "name": "stdout",
          "text": [
            "root\n",
            " |-- marketplace: string (nullable = true)\n",
            " |-- customer_id: integer (nullable = true)\n",
            " |-- review_id: string (nullable = true)\n",
            " |-- product_id: string (nullable = true)\n",
            " |-- product_parent: integer (nullable = true)\n",
            " |-- product_title: string (nullable = true)\n",
            " |-- product_category: string (nullable = true)\n",
            " |-- star_rating: integer (nullable = true)\n",
            " |-- helpful_votes: integer (nullable = true)\n",
            " |-- total_votes: integer (nullable = true)\n",
            " |-- vine: string (nullable = true)\n",
            " |-- verified_purchase: string (nullable = true)\n",
            " |-- review_headline: string (nullable = true)\n",
            " |-- review_body: string (nullable = true)\n",
            " |-- review_date: string (nullable = true)\n",
            " |-- ReviewDate: date (nullable = true)\n",
            "\n"
          ]
        }
      ]
    },
    {
      "cell_type": "code",
      "source": [
        "#drop old review_date column\n",
        "df=df.drop('review_date')"
      ],
      "metadata": {
        "id": "SAqq5UtyaFk3"
      },
      "execution_count": null,
      "outputs": []
    },
    {
      "cell_type": "code",
      "source": [
        "# rename new review_date column\n",
        "df=df.withColumnRenamed('ReviewDate','review_date',)\n",
        "df.printSchema()"
      ],
      "metadata": {
        "colab": {
          "base_uri": "https://localhost:8080/"
        },
        "id": "vdEyZpE0aFW_",
        "outputId": "4efc16b4-5205-4b86-8f4e-be34e1f207d7"
      },
      "execution_count": null,
      "outputs": [
        {
          "output_type": "stream",
          "name": "stdout",
          "text": [
            "root\n",
            " |-- marketplace: string (nullable = true)\n",
            " |-- customer_id: integer (nullable = true)\n",
            " |-- review_id: string (nullable = true)\n",
            " |-- product_id: string (nullable = true)\n",
            " |-- product_parent: integer (nullable = true)\n",
            " |-- product_title: string (nullable = true)\n",
            " |-- product_category: string (nullable = true)\n",
            " |-- star_rating: integer (nullable = true)\n",
            " |-- helpful_votes: integer (nullable = true)\n",
            " |-- total_votes: integer (nullable = true)\n",
            " |-- vine: string (nullable = true)\n",
            " |-- verified_purchase: string (nullable = true)\n",
            " |-- review_headline: string (nullable = true)\n",
            " |-- review_body: string (nullable = true)\n",
            " |-- review_date: date (nullable = true)\n",
            "\n"
          ]
        }
      ]
    },
    {
      "cell_type": "code",
      "source": [
        "# Separate dataframe for Vine Customers\n",
        "df_vine=df.filter(df['vine']=='Y')"
      ],
      "metadata": {
        "id": "sn2cir75fSFl"
      },
      "execution_count": null,
      "outputs": []
    },
    {
      "cell_type": "code",
      "source": [
        "#Separate dataframe for Non Vine Customers\n",
        "df_nonvine=df.filter(df['vine']=='N')"
      ],
      "metadata": {
        "id": "OYtoL-XbfsuZ"
      },
      "execution_count": null,
      "outputs": []
    },
    {
      "cell_type": "markdown",
      "source": [
        "## Analysis for vine customers"
      ],
      "metadata": {
        "id": "sUzHLND7f2xw"
      }
    },
    {
      "cell_type": "code",
      "source": [
        "#Checking summary statistics of starratings , helpful votes and total votes for vine customers \n",
        "vine_summary_analysis_df = df_vine.select([\"star_rating\",\"helpful_votes\",\"total_votes\"]).describe()\n",
        "\n",
        "print(\"Summary statistics for VINE CUSTOMERS\")\n",
        "vine_summary_analysis_df.show()"
      ],
      "metadata": {
        "colab": {
          "base_uri": "https://localhost:8080/"
        },
        "id": "8B7fks8XgIte",
        "outputId": "c9b96e2d-f393-42be-c469-c747fef57516"
      },
      "execution_count": null,
      "outputs": [
        {
          "output_type": "stream",
          "name": "stdout",
          "text": [
            "Summary statistics for VINE CUSTOMERS\n",
            "+-------+------------------+------------------+------------------+\n",
            "|summary|       star_rating|     helpful_votes|       total_votes|\n",
            "+-------+------------------+------------------+------------------+\n",
            "|  count|              4290|              4290|              4290|\n",
            "|   mean|4.0748251748251745| 2.348717948717949|3.2783216783216784|\n",
            "| stddev|0.9183222304948362|12.580450532105264| 13.76996576175815|\n",
            "|    min|                 1|                 0|                 0|\n",
            "|    max|                 5|               347|               362|\n",
            "+-------+------------------+------------------+------------------+\n",
            "\n"
          ]
        }
      ]
    },
    {
      "cell_type": "code",
      "source": [
        "# Checking total votes for each star ratings\n",
        "from pyspark.sql.functions import mean, min, max, count,sum\n",
        "df_vine.groupBy('star_rating').sum('total_votes').show()\n"
      ],
      "metadata": {
        "id": "6COo2iKIktl0",
        "colab": {
          "base_uri": "https://localhost:8080/"
        },
        "outputId": "bbf4eab5-52cb-4ee6-d763-7634dbcd1351"
      },
      "execution_count": null,
      "outputs": [
        {
          "output_type": "stream",
          "name": "stdout",
          "text": [
            "+-----------+----------------+\n",
            "|star_rating|sum(total_votes)|\n",
            "+-----------+----------------+\n",
            "|          1|             313|\n",
            "|          3|            2267|\n",
            "|          5|            5592|\n",
            "|          4|            5066|\n",
            "|          2|             826|\n",
            "+-----------+----------------+\n",
            "\n"
          ]
        }
      ]
    },
    {
      "cell_type": "code",
      "source": [
        "# Checking helpful votes for each star ratings\n",
        "df_vine.groupBy('star_rating').sum('helpful_votes').show()"
      ],
      "metadata": {
        "colab": {
          "base_uri": "https://localhost:8080/"
        },
        "id": "vSZxIgPAW2Zu",
        "outputId": "54db69ed-f56e-419c-c5ad-aa3f9ab9cd79"
      },
      "execution_count": null,
      "outputs": [
        {
          "output_type": "stream",
          "name": "stdout",
          "text": [
            "+-----------+------------------+\n",
            "|star_rating|sum(helpful_votes)|\n",
            "+-----------+------------------+\n",
            "|          1|               103|\n",
            "|          3|              1419|\n",
            "|          5|              4245|\n",
            "|          4|              3861|\n",
            "|          2|               448|\n",
            "+-----------+------------------+\n",
            "\n"
          ]
        }
      ]
    },
    {
      "cell_type": "code",
      "source": [
        "# Checking review count where helpful votes greater than 5\n",
        "df_vine.select().where(df_vine.helpful_votes>5).count()"
      ],
      "metadata": {
        "colab": {
          "base_uri": "https://localhost:8080/"
        },
        "id": "PE5nN8DTYnTO",
        "outputId": "bf5126cf-8439-4b22-f4dd-eeb269aed215"
      },
      "execution_count": null,
      "outputs": [
        {
          "output_type": "execute_result",
          "data": {
            "text/plain": [
              "295"
            ]
          },
          "metadata": {},
          "execution_count": 84
        }
      ]
    },
    {
      "cell_type": "code",
      "source": [
        "# Checking review count where total votes greater than 5\n",
        "df_vine.select().where(df_vine.total_votes>5).count()"
      ],
      "metadata": {
        "colab": {
          "base_uri": "https://localhost:8080/"
        },
        "id": "IdnF6DjPc3ib",
        "outputId": "c6f8386c-41a1-4900-eee3-07cba9c1fdbd"
      },
      "execution_count": null,
      "outputs": [
        {
          "output_type": "execute_result",
          "data": {
            "text/plain": [
              "480"
            ]
          },
          "metadata": {},
          "execution_count": 85
        }
      ]
    },
    {
      "cell_type": "code",
      "source": [
        "#checking average star rating for products where helpful votes greater than 5\n",
        "df_vine_star_helpful=df.filter(df_vine.helpful_votes>5)\n",
        "df_vine_star_helpful.select(mean('star_rating')).show()"
      ],
      "metadata": {
        "colab": {
          "base_uri": "https://localhost:8080/"
        },
        "id": "8G1MoWxCaL8z",
        "outputId": "b6d143e5-2c22-4c6b-b637-32ee755ca6f1"
      },
      "execution_count": null,
      "outputs": [
        {
          "output_type": "stream",
          "name": "stdout",
          "text": [
            "+-----------------+\n",
            "| avg(star_rating)|\n",
            "+-----------------+\n",
            "|3.319512572585909|\n",
            "+-----------------+\n",
            "\n"
          ]
        }
      ]
    },
    {
      "cell_type": "code",
      "source": [
        "#checking average star rating for products where total votes greater than 5\n",
        "df_vine_star_total=df.filter(df_vine.total_votes>5)\n",
        "df_vine_star_total.select(mean('star_rating')).show()"
      ],
      "metadata": {
        "colab": {
          "base_uri": "https://localhost:8080/"
        },
        "id": "lgdW1NUScPV6",
        "outputId": "655571b6-2c65-4f2d-ae52-793082bb9d46"
      },
      "execution_count": null,
      "outputs": [
        {
          "output_type": "stream",
          "name": "stdout",
          "text": [
            "+-----------------+\n",
            "| avg(star_rating)|\n",
            "+-----------------+\n",
            "|3.160227058293443|\n",
            "+-----------------+\n",
            "\n"
          ]
        }
      ]
    },
    {
      "cell_type": "code",
      "source": [
        "#Checking number of reviews where total votes and helpful votes both greater than 5\n",
        "df_vine.select().where((df_vine.total_votes>5) & (df_vine.helpful_votes>5) ).count()"
      ],
      "metadata": {
        "colab": {
          "base_uri": "https://localhost:8080/"
        },
        "id": "42qf3p5cdjcy",
        "outputId": "fa52bc07-ec48-443e-a8c3-e174f8ec3983"
      },
      "execution_count": null,
      "outputs": [
        {
          "output_type": "execute_result",
          "data": {
            "text/plain": [
              "295"
            ]
          },
          "metadata": {},
          "execution_count": 87
        }
      ]
    },
    {
      "cell_type": "code",
      "source": [
        "#Checking average starrating for products where total_votes and helpful votes both greater than 5\n",
        "df_vine_star=df.filter((df_vine.total_votes>5)&(df_vine.helpful_votes>5))\n",
        "df_vine_star.select(mean('star_rating')).show()"
      ],
      "metadata": {
        "colab": {
          "base_uri": "https://localhost:8080/"
        },
        "id": "DEdlSCbPeDGH",
        "outputId": "b6ff8c2e-c897-4857-f3e1-86ec2e3d70a7"
      },
      "execution_count": null,
      "outputs": [
        {
          "output_type": "stream",
          "name": "stdout",
          "text": [
            "+-----------------+\n",
            "| avg(star_rating)|\n",
            "+-----------------+\n",
            "|3.319512572585909|\n",
            "+-----------------+\n",
            "\n"
          ]
        }
      ]
    },
    {
      "cell_type": "code",
      "source": [
        "# Checking number of reviews where star_rating is 5\n",
        "df_vine_5star=df_vine.filter(df_vine.star_rating==5)\n",
        "df_vine_5star.select('review_id').distinct().count()"
      ],
      "metadata": {
        "colab": {
          "base_uri": "https://localhost:8080/"
        },
        "id": "tSF37LHhyVsI",
        "outputId": "8634b791-075d-4f7a-d465-20a30941d7b8"
      },
      "execution_count": null,
      "outputs": [
        {
          "output_type": "execute_result",
          "data": {
            "text/plain": [
              "1607"
            ]
          },
          "metadata": {},
          "execution_count": 89
        }
      ]
    },
    {
      "cell_type": "code",
      "source": [
        "#Checking 20 products where starrating is 1 with helpful votes in descending order\n",
        "from pyspark.sql.functions import desc\n",
        "\n",
        "low_vine_helpful_votes = df_vine.orderBy(df_vine.helpful_votes.desc())\n",
        "low_vine_helpful_votes = low_vine_helpful_votes.filter('star_rating = 1')\n",
        "\n",
        "print(\"Worst 20 rated products with the top helpful votes for VINE CUSTOMERS\")\n",
        "low_vine_helpful_votes.show()"
      ],
      "metadata": {
        "colab": {
          "base_uri": "https://localhost:8080/"
        },
        "id": "ZQnrsvPYhvuI",
        "outputId": "f0ed99e0-10c6-4df8-cb72-ad25bdfe1cb6"
      },
      "execution_count": null,
      "outputs": [
        {
          "output_type": "stream",
          "name": "stdout",
          "text": [
            "Worst 20 rated products with the top helpful votes for VINE CUSTOMERS\n",
            "+-----------+-----------+--------------+----------+--------------+--------------------+----------------+-----------+-------------+-----------+----+-----------------+--------------------+--------------------+-----------+\n",
            "|marketplace|customer_id|     review_id|product_id|product_parent|       product_title|product_category|star_rating|helpful_votes|total_votes|vine|verified_purchase|     review_headline|         review_body|review_date|\n",
            "+-----------+-----------+--------------+----------+--------------+--------------------+----------------+-----------+-------------+-----------+----+-----------------+--------------------+--------------------+-----------+\n",
            "|         US|   51640716|R3CMWDEYCJM2O9|B00D6PTMHI|     962335646|      Rocksmith 2014|     Video Games|          1|           24|         31|   Y|                N|Installation conf...|The most confusin...| 2013-12-01|\n",
            "|         US|   51962742|R29VVB0N4AQPI4|B00D6PTMHI|     962335646|      Rocksmith 2014|     Video Games|          1|            8|          9|   Y|                N|I'm Very Savvy wi...|Originally, I pos...| 2013-12-19|\n",
            "|         US|   34623448|R2ZQQZ9ZEVSR26|B0058SHMXM|      39649028|   Just Dance Kids 2|     Video Games|          1|            8|         10|   Y|                N|Not as good as th...|We also have the ...| 2012-01-19|\n",
            "|         US|   39583130|R19NZNVPQ6L9XN|B0087OZ5FG|     665481304|Pulse Elite Editi...|     Video Games|          1|            7|         15|   Y|                Y| broke after 1 month|UPDATE 11/10/12: ...| 2012-10-15|\n",
            "|         US|   16559442| R190F2C8P0JM3|B00D6PTMB4|     301376610|      Rocksmith 2014|     Video Games|          1|            5|         11|   Y|                N|Couldn't get past...|I was really exci...| 2013-12-02|\n",
            "|         US|   50163075|R164450Y5YL5XU|B00D6NPFDK|     229228149|Skylanders SWAP F...|     Video Games|          1|            4|          7|   Y|                N|HUGE DISAPPOINTME...|My son and my nep...| 2013-11-26|\n",
            "|         US|   52594677|R2E2MV6T6VC12R|B00F9RGFEY|     103114143|PDP Afterglow Dol...|     Video Games|          1|            4|          6|   Y|                N|     Background Buzz|I got this hooked...| 2014-05-20|\n",
            "|         US|   51212167| R136GSSUJW5NI|B00BDS415I|     282882444|Turtle Beach - Ea...|     Video Games|          1|            3|         26|   Y|                N|Uncomfortable Aft...|I've come to the ...| 2013-05-27|\n",
            "|         US|   42540531| RLXYS81SE1QYT|B0050SVHGI|     909142491|AmazonBasics Whee...|     Video Games|          1|            3|          5|   Y|                N|Doesn't fit the W...|It is really anno...| 2011-12-10|\n",
            "|         US|   49003190|R17895BRH9JD5O|B00J48MUS4|     928566066|Assassin's Creed ...|     Video Games|          1|            2|          2|   Y|                N|      Broken Release|I got this game f...| 2015-01-07|\n",
            "|         US|   53082379|R2DSS0BXSTEAQA|B00J48MUS4|     928566066|Assassin's Creed ...|     Video Games|          1|            2|          2|   Y|                N|   Way Disappointing|This game is a co...| 2015-01-15|\n",
            "|         US|   52736752|  RS06U8Y07B8H|B000R1A0L6|     156415253|  Godzilla Unleashed|     Video Games|          1|            2|          4|   Y|                N|  Wii Deserve Better|Being a kaiju fan...| 2008-02-23|\n",
            "|         US|   50120605|R2LYPXV64AO4TY|B00EI4V3FU|     809668681|Turtle Beach Ear ...|     Video Games|          1|            2|          3|   Y|                N|       Do NOT bother|Seriously, don't ...| 2013-11-26|\n",
            "|         US|   39870376|R2E06D0GWPDWAK|B003O7T9BW|     330766835|Nintendo DS Drago...|     Video Games|          1|            2|         28|   Y|                N|   not really needed|Whats the point o...| 2011-06-17|\n",
            "|         US|   51096207|R38UYF22X09R52|B002FC6TCE|     460869595|Thrustmaster Tenn...|     Video Games|          1|            2|          4|   Y|                N|NEW YARD TOYS!  H...|The Wii Thrustmas...| 2009-10-20|\n",
            "|         US|   52450173| R71NP55J6H4UJ|B00170BV6E|     862349310|                Pure|     Video Games|          1|            2|         13|   Y|                N|Pure Frustration ...|This is what vide...| 2009-06-25|\n",
            "|         US|   51101090|R2SXYBD6YML5F2|B00EI4V3X2|     558589646|Turtle Beach Ear ...|     Video Games|          1|            2|          3|   Y|                N|Setup is confusin...|There is almost n...| 2013-12-31|\n",
            "|         US|   52450057|R351403W95XRX3|B006W41W4Q|     201115140|Turtle Beach Ear ...|     Video Games|          1|            2|          5|   Y|                N|Mine has issues a...|This headset, alt...| 2012-10-13|\n",
            "|         US|   39916916|R1R0J8S1VGALUY|B00UOYQ5DS|     166248134|Razer Serval - Mo...|     Video Games|          1|            1|          2|   Y|                N|           I give up|After two weeks t...| 2015-08-27|\n",
            "|         US|   30792346|R36PLIN6JF7NBS|B004K6LQA8|     653296179|Nintendo 3DS Sili...|     Video Games|          1|            1|          4|   Y|                N| Not what I expected|This is a pretty ...| 2011-06-03|\n",
            "+-----------+-----------+--------------+----------+--------------+--------------------+----------------+-----------+-------------+-----------+----+-----------------+--------------------+--------------------+-----------+\n",
            "only showing top 20 rows\n",
            "\n"
          ]
        }
      ]
    },
    {
      "cell_type": "markdown",
      "source": [
        "## Analysis for non_vine custimers"
      ],
      "metadata": {
        "id": "BJiSe8mtjKOO"
      }
    },
    {
      "cell_type": "code",
      "source": [
        "#Checking summary statistics of starratings , helpful votes and total votes for nonvine customers \n",
        "nonvine_summary_analysis_df = df_nonvine.select([\"star_rating\",\"helpful_votes\",\"total_votes\"]).describe()\n",
        "\n",
        "print(\"Summary statistics for NON_VINE CUSTOMERS\")\n",
        "nonvine_summary_analysis_df.show()"
      ],
      "metadata": {
        "colab": {
          "base_uri": "https://localhost:8080/"
        },
        "id": "DNGjSoTjjHoT",
        "outputId": "0d099290-0baf-4381-cccb-593215844985"
      },
      "execution_count": null,
      "outputs": [
        {
          "output_type": "stream",
          "name": "stdout",
          "text": [
            "Summary statistics for NON_VINE CUSTOMERS\n",
            "+-------+------------------+------------------+------------------+\n",
            "|summary|       star_rating|     helpful_votes|       total_votes|\n",
            "+-------+------------------+------------------+------------------+\n",
            "|  count|           1781596|           1781596|           1781596|\n",
            "|   mean|  4.05985981109073|2.2591653775603446| 3.758569282822817|\n",
            "| stddev|1.3566851626010528|19.185004054278206|22.471849948334242|\n",
            "|    min|                 1|                 0|                 0|\n",
            "|    max|                 5|             10498|             10780|\n",
            "+-------+------------------+------------------+------------------+\n",
            "\n"
          ]
        }
      ]
    },
    {
      "cell_type": "code",
      "source": [
        "# Checking total votes for each star ratings for nonvine customers\n",
        "from pyspark.sql.functions import mean, min, max, count,sum\n",
        "df_nonvine.groupBy('star_rating').sum('total_votes').show()"
      ],
      "metadata": {
        "colab": {
          "base_uri": "https://localhost:8080/"
        },
        "id": "6jqD9zVojHfM",
        "outputId": "3241e3de-76a3-489e-baef-13b6b2e0f0ec"
      },
      "execution_count": null,
      "outputs": [
        {
          "output_type": "stream",
          "name": "stdout",
          "text": [
            "+-----------+----------------+\n",
            "|star_rating|sum(total_votes)|\n",
            "+-----------+----------------+\n",
            "|          1|         2057802|\n",
            "|          3|          657016|\n",
            "|          5|         2462207|\n",
            "|          4|          954389|\n",
            "|          2|          564838|\n",
            "+-----------+----------------+\n",
            "\n"
          ]
        }
      ]
    },
    {
      "cell_type": "code",
      "source": [
        "# Checking helpful votes for each star ratings for nonvine customers\n",
        "df_nonvine.groupBy('star_rating').sum('helpful_votes').show()"
      ],
      "metadata": {
        "colab": {
          "base_uri": "https://localhost:8080/"
        },
        "id": "NSPFopeUjHUa",
        "outputId": "cacc4744-192e-4381-eb8a-1ff725baf27d"
      },
      "execution_count": null,
      "outputs": [
        {
          "output_type": "stream",
          "name": "stdout",
          "text": [
            "+-----------+------------------+\n",
            "|star_rating|sum(helpful_votes)|\n",
            "+-----------+------------------+\n",
            "|          1|               103|\n",
            "|          3|              1419|\n",
            "|          5|              4245|\n",
            "|          4|              3861|\n",
            "|          2|               448|\n",
            "+-----------+------------------+\n",
            "\n"
          ]
        }
      ]
    },
    {
      "cell_type": "code",
      "source": [
        "# Checking review count where helpful votes greater than 5 for nonvine customers\n",
        "df_nonvine.select().where(df_nonvine.helpful_votes>5).count()"
      ],
      "metadata": {
        "colab": {
          "base_uri": "https://localhost:8080/"
        },
        "id": "f66H9LUnjHBs",
        "outputId": "3131db51-8bb0-4994-f3a3-a37d4ccc63cc"
      },
      "execution_count": null,
      "outputs": [
        {
          "output_type": "execute_result",
          "data": {
            "text/plain": [
              "148322"
            ]
          },
          "metadata": {},
          "execution_count": 94
        }
      ]
    },
    {
      "cell_type": "code",
      "source": [
        "# Checking review count where total votes greater than 5 for nonvine customers\n",
        "df_nonvine.select().where(df_nonvine.total_votes>5).count()"
      ],
      "metadata": {
        "colab": {
          "base_uri": "https://localhost:8080/"
        },
        "id": "CH6iv5_djGlk",
        "outputId": "886f056c-072c-4ad1-d5f7-6b4098b494f4"
      },
      "execution_count": null,
      "outputs": [
        {
          "output_type": "execute_result",
          "data": {
            "text/plain": [
              "259189"
            ]
          },
          "metadata": {},
          "execution_count": 95
        }
      ]
    },
    {
      "cell_type": "code",
      "source": [
        "#checking average star rating for products where helpful votes greater than 5\n",
        "df_nonvine_star_helpful=df.filter(df_nonvine.helpful_votes>5)\n",
        "df_nonvine_star_helpful.select(mean('star_rating')).show()"
      ],
      "metadata": {
        "colab": {
          "base_uri": "https://localhost:8080/"
        },
        "id": "E0dZ5Y8zz3P6",
        "outputId": "cffd9cdb-fc0f-461b-941e-b4f1637193c4"
      },
      "execution_count": null,
      "outputs": [
        {
          "output_type": "stream",
          "name": "stdout",
          "text": [
            "+-----------------+\n",
            "| avg(star_rating)|\n",
            "+-----------------+\n",
            "|3.319512572585909|\n",
            "+-----------------+\n",
            "\n"
          ]
        }
      ]
    },
    {
      "cell_type": "code",
      "source": [
        "#checking average star rating for products where total votes greater than 5\n",
        "df_nonvine_star_total=df_nonvine.filter(df_nonvine.total_votes>5)\n",
        "df_nonvine_star_total.select(mean('star_rating')).show()"
      ],
      "metadata": {
        "colab": {
          "base_uri": "https://localhost:8080/"
        },
        "id": "-ETxt2f0z3JR",
        "outputId": "1eee15ad-32e5-4285-a9a7-4d19c2c26c57"
      },
      "execution_count": null,
      "outputs": [
        {
          "output_type": "stream",
          "name": "stdout",
          "text": [
            "+------------------+\n",
            "|  avg(star_rating)|\n",
            "+------------------+\n",
            "|3.1587837446805227|\n",
            "+------------------+\n",
            "\n"
          ]
        }
      ]
    },
    {
      "cell_type": "code",
      "source": [
        "#Checking number of reviews where total votes and helpful votes both greater than 5\n",
        "df_nonvine.select().where((df_nonvine.total_votes>5) & (df_nonvine.helpful_votes>5) ).count()"
      ],
      "metadata": {
        "colab": {
          "base_uri": "https://localhost:8080/"
        },
        "id": "lVIpdmMOz3Eh",
        "outputId": "bee5268e-18d6-414a-f250-74c996886fa3"
      },
      "execution_count": null,
      "outputs": [
        {
          "output_type": "execute_result",
          "data": {
            "text/plain": [
              "148322"
            ]
          },
          "metadata": {},
          "execution_count": 98
        }
      ]
    },
    {
      "cell_type": "code",
      "source": [
        "#Checking average starrating for products where total_votes and helpful votes both greater than 5\n",
        "df_nonvine_star=df_nonvine.filter((df_nonvine.total_votes>5)&(df_nonvine.helpful_votes>5))\n",
        "df_nonvine_star.select(mean('star_rating')).show()"
      ],
      "metadata": {
        "colab": {
          "base_uri": "https://localhost:8080/"
        },
        "id": "GGF7NPqpz2_h",
        "outputId": "8e193a16-fd9a-4ce2-9136-deb5fd3712bc"
      },
      "execution_count": null,
      "outputs": [
        {
          "output_type": "stream",
          "name": "stdout",
          "text": [
            "+------------------+\n",
            "|  avg(star_rating)|\n",
            "+------------------+\n",
            "|3.3179096829870147|\n",
            "+------------------+\n",
            "\n"
          ]
        }
      ]
    },
    {
      "cell_type": "code",
      "source": [
        "# Checking number of reviews where star_rating is 5\n",
        "df_nonvine_5star=df_nonvine.filter(df_nonvine.star_rating==5)\n",
        "df_nonvine_5star.count()"
      ],
      "metadata": {
        "colab": {
          "base_uri": "https://localhost:8080/"
        },
        "id": "4kBLn80bz25g",
        "outputId": "c63f4a19-339e-4c7a-afad-ceb387a1518f"
      },
      "execution_count": null,
      "outputs": [
        {
          "output_type": "execute_result",
          "data": {
            "text/plain": [
              "1025249"
            ]
          },
          "metadata": {},
          "execution_count": 100
        }
      ]
    },
    {
      "cell_type": "code",
      "source": [
        "#Checking 20 products where starrating is 1 with helpful votes in descending order\n",
        "from pyspark.sql.functions import desc\n",
        "\n",
        "low_nonvine_helpful_votes = df_nonvine.orderBy(df_nonvine.helpful_votes.desc())\n",
        "low_nonvine_helpful_votes = low_nonvine_helpful_votes.filter('star_rating = 1')\n",
        "\n",
        "print(\"Worst 20 rated products with the top helpful votes for NON VINE CUSTOMERS\")\n",
        "low_nonvine_helpful_votes.show()"
      ],
      "metadata": {
        "colab": {
          "base_uri": "https://localhost:8080/"
        },
        "id": "jNwwCKKHz2xt",
        "outputId": "f3692e59-67f1-4a69-88c1-d174cda91d1d"
      },
      "execution_count": null,
      "outputs": [
        {
          "output_type": "stream",
          "name": "stdout",
          "text": [
            "Worst 20 rated products with the top helpful votes for NON VINE CUSTOMERS\n",
            "+-----------+-----------+--------------+----------+--------------+--------------------+----------------+-----------+-------------+-----------+----+-----------------+--------------------+--------------------+-----------+\n",
            "|marketplace|customer_id|     review_id|product_id|product_parent|       product_title|product_category|star_rating|helpful_votes|total_votes|vine|verified_purchase|     review_headline|         review_body|review_date|\n",
            "+-----------+-----------+--------------+----------+--------------+--------------------+----------------+-----------+-------------+-----------+----+-----------------+--------------------+--------------------+-----------+\n",
            "|         US|   48557141|R3HI7AMO8MJ9PF|B007FTE2VW|     265303108|SimCity - Limited...|     Video Games|          1|        10498|      10780|   N|                N|    What a lousy toy|Fundamentally, Si...| 2013-03-06|\n",
            "|         US|   34072304| RK9RKIUMYF757|B000FKBCX4|     366059078|               Spore|     Video Games|          1|         8650|       9459|   N|                N|Dumbed down exper...|See those older 5...| 2008-09-07|\n",
            "|         US|   28309336| RTDOWG8IG081J|B00J48MUS4|     928566066|Assassin's Creed ...|     Video Games|          1|         5141|       5334|   N|                N|Become a $60 Beta...|AC Unity is true ...| 2014-11-12|\n",
            "|         US|   40744456|R1HMZ8KIMMK4TD|B00178630A|     111226018| Diablo III - PC/Mac|     Video Games|          1|         2986|       3351|   N|                Y|Diablo III - easi...|I have been hesit...| 2012-06-20|\n",
            "|         US|   50558363|R2BCG8O8BZKG5R|B000FKBCX4|     366059078|               Spore|     Video Games|          1|         2829|       3251|   N|                N|No Way, No How, N...|I just got throug...| 2008-09-07|\n",
            "|         US|   33376525|R289KCM8XVQSQQ|B007FTE2VW|     265303108|SimCity - Limited...|     Video Games|          1|         2066|       2154|   N|                Y|This game should ...|So I took the bai...| 2013-03-06|\n",
            "|         US|   50648042|R3DYE5TLL1IIC6|B000MK694E|     473728670|            BioShock|     Video Games|          1|         1953|       2222|   N|                N|THIS IS THE REVIE...|Let's keep this s...| 2007-08-24|\n",
            "|         US|   29681280|R1RCSQKLOCRHKA|B000FKBCX4|     366059078|               Spore|     Video Games|          1|         1917|       2272|   N|                N|             A shame|Currently I rate ...| 2008-09-07|\n",
            "|         US|   46765732|R3Q3DZ8VTV5T50|B007FTE2VW|     265303108|SimCity - Limited...|     Video Games|          1|         1773|       1900|   N|                Y|I purchased a gam...|No problems insta...| 2013-03-06|\n",
            "|         US|   10078290|R1HBH6SGD3DDTY|B005CMZJL6|     746038909|Playstation 3 Ave...|     Video Games|          1|         1582|       1765|   N|                N|       Complete Joke|The product is a ...| 2011-12-27|\n",
            "|         US|   32112984|R29FUVGTOLFG4D|B007FTE2VW|     265303108|SimCity - Limited...|     Video Games|          1|         1558|       1669|   N|                Y|I should have kno...|Well folks I hate...| 2013-03-06|\n",
            "|         US|   41201898|R1KZOXPCOEVHFO|B00NTDL4FU|     250750486|Skylanders Trap T...|     Video Games|          1|         1387|       1488|   N|                N|Kaos Trap designe...|Open letter to Ac...| 2014-12-15|\n",
            "|         US|   43774214|R3NNODLIW2BRMI|B000FKBCX4|     366059078|               Spore|     Video Games|          1|         1310|       1462|   N|                N|Returning the gam...|I played with the...| 2008-09-08|\n",
            "|         US|   16939213|R26BF1S6DHRKXN|B00178630A|     111226018| Diablo III - PC/Mac|     Video Games|          1|         1302|       1494|   N|                N|Nothing But Frust...|The best part of ...| 2012-06-13|\n",
            "|         US|   36248342| RU62JCPJ26UJD|B005CMZJL6|     746038909|Playstation 3 Ave...|     Video Games|          1|         1204|       1376|   N|                N|              A joke|Pushed back dates...| 2011-12-27|\n",
            "|         US|   46047660|R3TTMP83I0VZ5O|B00269QLJ2|       4799572|Call of Duty: Mod...|     Video Games|          1|         1133|       1299|   N|                N|         DO NOT BUY!|Do not buy this g...| 2009-11-10|\n",
            "|         US|   14429528| R9BKJREDP6AH3|B00178630A|     111226018| Diablo III - PC/Mac|     Video Games|          1|         1129|       1399|   N|                N|        RIP Blizzard|Well I have to ap...| 2012-05-30|\n",
            "|         US|   16838289| RUSJ6KX7SBC11|B000EYF88G|     130226520|Xbox 360 Quick Ch...|     Video Games|          1|         1125|       1349|   N|                N|Worst blister pac...|I am slouched in ...| 2008-09-15|\n",
            "|         US|   28557605|R1YLX6NFM6VUOV|B000FKBCX4|     366059078|               Spore|     Video Games|          1|         1076|       1194|   N|                N|I don't understan...|This game has som...| 2008-09-09|\n",
            "|         US|   47238482| REQ0B4T30Q4X4|B00140P9BA|     533608856|Mass Effect - Xbo...|     Video Games|          1|         1041|       1267|   N|                N|Rental versus pur...|I am not reviewin...| 2008-06-18|\n",
            "+-----------+-----------+--------------+----------+--------------+--------------------+----------------+-----------+-------------+-----------+----+-----------------+--------------------+--------------------+-----------+\n",
            "only showing top 20 rows\n",
            "\n"
          ]
        }
      ]
    },
    {
      "cell_type": "markdown",
      "source": [
        "## Analysis on Amazon Vine Program:\n",
        "\n",
        "1. We can see that the percentage of 5-star reviews in Vine is not very close to non-Vine reviews (37% for vine to 57.54% for nonvine).\n",
        "\n",
        "2. Both average star rating for vine and non vine customers is near 4%\n",
        "\n",
        "3. Both or vine and nonvine customers, numbers of reviews with only helpful votes  greater than 5 and with both helpful votes and total votes greater than 5 are same.\n",
        "\n",
        "4. Apart from 5 products, all other products rated 1 don't have helpful vote greater than 5 in case of vine customers.\n",
        "\n",
        "5. In case of both vine and non vine customers average starrating is around 3 for products with helpful and total votes greater than 5. \n",
        "\n",
        "\n",
        "So based on the above results it can be considered that Amzon Vine Reviews are not biased."
      ],
      "metadata": {
        "id": "kjGMu-NKB3XZ"
      }
    },
    {
      "cell_type": "code",
      "source": [
        ""
      ],
      "metadata": {
        "id": "HDrDxHLlLEfd"
      },
      "execution_count": null,
      "outputs": []
    }
  ],
  "metadata": {
    "colab": {
      "name": "Videogame_Review_Analysis.ipynb",
      "provenance": [],
      "collapsed_sections": []
    },
    "kernelspec": {
      "display_name": "Python 3",
      "language": "python",
      "name": "python3"
    },
    "language_info": {
      "codemirror_mode": {
        "name": "ipython",
        "version": 3
      },
      "file_extension": ".py",
      "mimetype": "text/x-python",
      "name": "python",
      "nbconvert_exporter": "python",
      "pygments_lexer": "ipython3",
      "version": "3.7.4"
    },
    "latex_envs": {
      "LaTeX_envs_menu_present": true,
      "autoclose": false,
      "autocomplete": true,
      "bibliofile": "biblio.bib",
      "cite_by": "apalike",
      "current_citInitial": 1,
      "eqLabelWithNumbers": true,
      "eqNumInitial": 1,
      "hotkeys": {
        "equation": "Ctrl-E",
        "itemize": "Ctrl-I"
      },
      "labels_anchors": false,
      "latex_user_defs": false,
      "report_style_numbering": false,
      "user_envs_cfg": false
    }
  },
  "nbformat": 4,
  "nbformat_minor": 0
}